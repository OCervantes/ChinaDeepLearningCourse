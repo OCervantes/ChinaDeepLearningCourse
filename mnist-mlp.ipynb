{
 "cells": [
  {
   "cell_type": "markdown",
   "metadata": {},
   "source": [
    "# Handwritten Digit Recognition\n",
    "\n",
    "This tutorial guides you through a classic computer vision application: identify hand written digits with a multi-layer neural network.\n",
    "\n",
    "## Tools\n",
    "\n",
    "* Keras \n",
    "* Matplot (to graph training history)\n",
    "* Numpy (for data types and mathematical operations)\n",
    "* Scikitlearn (for data normalization)\n",
    "\n",
    "\n",
    "## Step 1: Load data from MNIST\n",
    "We first load the [MNIST](http://yann.lecun.com/exdb/mnist/) dataset, a classic in the machine-learning community, which has been around almost as long as the field itself and has been intensively studied. It’s a set of 60,000 training images, plus 10,000 test images, assembled by the National Institute of Standards and Technology (the NIST in MNIST) in the 1980s. Each image in this dataset has been resized into 28x28 with grayscale value between 0 and 254.\n",
    "\n",
    "The following codes load the images and the according labels. The variables x_train and y_train form the training set, the data that the model will learn from. The model will then be tested on the test set (x_test and y_test variables)."
   ]
  },
  {
   "cell_type": "code",
   "execution_count": 41,
   "metadata": {},
   "outputs": [],
   "source": [
    "import keras\n",
    "from keras.datasets import mnist\n",
    "import numpy\n",
    "(x_train, y_train), (x_test, y_test) = mnist.load_data() # The dataset will be downloaded the first time."
   ]
  },
  {
   "cell_type": "markdown",
   "metadata": {},
   "source": [
    "To see the content we plot the first 10 images and print their labels from training set."
   ]
  },
  {
   "cell_type": "code",
   "execution_count": 42,
   "metadata": {
    "scrolled": true
   },
   "outputs": [
    {
     "data": {
      "image/png": "[encoded data removed]",
      "text/plain": [
       "<Figure size 432x288 with 10 Axes>"
      ]
     },
     "metadata": {},
     "output_type": "display_data"
    },
    {
     "name": "stdout",
     "output_type": "stream",
     "text": [
      "label: [5 0 4 1 9 2 1 3 1 4]\n"
     ]
    }
   ],
   "source": [
    "%matplotlib inline\n",
    "import matplotlib.pyplot as plt\n",
    "for i in range(10):\n",
    "    plt.subplot(1,10,i+1)\n",
    "    plt.imshow(x_train[i], cmap='Greys_r')\n",
    "    plt.axis('off')\n",
    "plt.show()\n",
    "print('label: %s' % (y_train[0:10],))"
   ]
  },
  {
   "cell_type": "markdown",
   "metadata": {},
   "source": [
    "Show shape (dimensions) of the train and test sets."
   ]
  },
  {
   "cell_type": "code",
   "execution_count": 43,
   "metadata": {},
   "outputs": [
    {
     "name": "stdout",
     "output_type": "stream",
     "text": [
      "(60000, 28, 28)\n",
      "(10000, 28, 28)\n"
     ]
    }
   ],
   "source": [
    "print(x_train.shape)\n",
    "print(x_test.shape)"
   ]
  },
  {
   "cell_type": "markdown",
   "metadata": {},
   "source": [
    "We see that there are 60000 and 10000 samples for the train and test sets respectively."
   ]
  },
  {
   "cell_type": "markdown",
   "metadata": {},
   "source": [
    "## Step 2: Preprocess input data for neural network\n",
    "\n",
    "The MNIST training dataset is structured as a 3-dimensional array of instance, image width and image height. For a multi-layer model we must reduce the images down into a vector of pixels by applying reshaping. Apply tensor reshaping means rearrangement of its dimensions to match a target shape (in this case the input shape of the following neural network's input layer is 768 as a result to multiply image width size by image height size).\n",
    "\n",
    "The following code transforms the train and test datasets with shape of (n_samples, image_width, image_height) to (n_samples, image_width * image_height).\n"
   ]
  },
  {
   "cell_type": "code",
   "execution_count": 44,
   "metadata": {},
   "outputs": [
    {
     "name": "stdout",
     "output_type": "stream",
     "text": [
      "(60000, 784)\n",
      "(10000, 784)\n"
     ]
    }
   ],
   "source": [
    "x_train = x_train.reshape(x_train.shape[0], 28 * 28)\n",
    "x_test = x_test.reshape(x_test.shape[0], 28 * 28) \n",
    "\n",
    "print(x_train.shape)\n",
    "print(x_test.shape)"
   ]
  },
  {
   "cell_type": "markdown",
   "metadata": {},
   "source": [
    "Reduce our memory requirements by forcing the precision of the pixel values to be 32 bit, the default precision used by Keras anyway."
   ]
  },
  {
   "cell_type": "code",
   "execution_count": 45,
   "metadata": {},
   "outputs": [],
   "source": [
    "x_train = x_train.astype('float32')\n",
    "x_test = x_test.astype('float32')"
   ]
  },
  {
   "cell_type": "markdown",
   "metadata": {},
   "source": [
    "When using neural network models is a good idea to perform normalization of the values to the range 0 and 1."
   ]
  },
  {
   "cell_type": "code",
   "execution_count": 46,
   "metadata": {},
   "outputs": [],
   "source": [
    "from sklearn.preprocessing import MinMaxScaler\n",
    "\n",
    "sc = MinMaxScaler(feature_range=(0,1))\n",
    "\n",
    "x_train = sc.fit_transform(x_train)\n",
    "x_test = sc.fit_transform(x_test)"
   ]
  },
  {
   "cell_type": "markdown",
   "metadata": {},
   "source": [
    "## Step 3: Preprocess class labels for neural network\n",
    "\n",
    "Show class label's shape of train and test set. "
   ]
  },
  {
   "cell_type": "code",
   "execution_count": 47,
   "metadata": {},
   "outputs": [
    {
     "name": "stdout",
     "output_type": "stream",
     "text": [
      "(60000,)\n",
      "(10000,)\n"
     ]
    }
   ],
   "source": [
    "print(y_train.shape)\n",
    "print(y_test.shape)"
   ]
  },
  {
   "cell_type": "markdown",
   "metadata": {},
   "source": [
    "The number of values per sample isn't clear. Let's show the first 10 training samples. "
   ]
  },
  {
   "cell_type": "code",
   "execution_count": 48,
   "metadata": {},
   "outputs": [
    {
     "name": "stdout",
     "output_type": "stream",
     "text": [
      "[5 0 4 1 9 2 1 3 1 4]\n"
     ]
    }
   ],
   "source": [
    "print y_train[:10]"
   ]
  },
  {
   "cell_type": "markdown",
   "metadata": {},
   "source": [
    "The problem is that there are 1-dimensional class array and the model wait a class matrix, this can be achieved by converting the 1-dimensional class array to 10-dimensional class matrix. We can easily do this using the built-in to_categorical() helper function in Keras (this step is also called one hot encoding)."
   ]
  },
  {
   "cell_type": "code",
   "execution_count": 49,
   "metadata": {},
   "outputs": [
    {
     "name": "stdout",
     "output_type": "stream",
     "text": [
      "(60000, 10)\n",
      "(10000, 10)\n"
     ]
    }
   ],
   "source": [
    "num_classes = 10\n",
    "y_train = keras.utils.to_categorical(y_train, num_classes)\n",
    "y_test = keras.utils.to_categorical(y_test, num_classes)\n",
    "\n",
    "print(y_train.shape)\n",
    "print(y_test.shape)"
   ]
  },
  {
   "cell_type": "markdown",
   "metadata": {},
   "source": [
    "Let's show the first 10 class labels again."
   ]
  },
  {
   "cell_type": "code",
   "execution_count": 50,
   "metadata": {},
   "outputs": [
    {
     "name": "stdout",
     "output_type": "stream",
     "text": [
      "[[0. 0. 0. 0. 0. 1. 0. 0. 0. 0.]\n",
      " [1. 0. 0. 0. 0. 0. 0. 0. 0. 0.]\n",
      " [0. 0. 0. 0. 1. 0. 0. 0. 0. 0.]\n",
      " [0. 1. 0. 0. 0. 0. 0. 0. 0. 0.]\n",
      " [0. 0. 0. 0. 0. 0. 0. 0. 0. 1.]\n",
      " [0. 0. 1. 0. 0. 0. 0. 0. 0. 0.]\n",
      " [0. 1. 0. 0. 0. 0. 0. 0. 0. 0.]\n",
      " [0. 0. 0. 1. 0. 0. 0. 0. 0. 0.]\n",
      " [0. 1. 0. 0. 0. 0. 0. 0. 0. 0.]\n",
      " [0. 0. 0. 0. 1. 0. 0. 0. 0. 0.]]\n"
     ]
    }
   ],
   "source": [
    "print y_train[:10]"
   ]
  },
  {
   "cell_type": "markdown",
   "metadata": {},
   "source": [
    "Now there are an vector of float numbers instead of only one number, indicating the probability of each class in a normalized way (the average of each vector is one)."
   ]
  },
  {
   "cell_type": "markdown",
   "metadata": {},
   "source": [
    "## Step 4: Define model's arquitecture and layers\n",
    "\n",
    "\n",
    "Keras support two models: Sequential, a linear stack of layers, and Graph, a directed acyclic graph of layers.\n",
    "\n",
    "Let's start by declaring a sequencial model, which is the most common network architecture by far."
   ]
  },
  {
   "cell_type": "code",
   "execution_count": 51,
   "metadata": {},
   "outputs": [],
   "source": [
    "from keras.models import Sequential\n",
    "\n",
    "model = Sequential()"
   ]
  },
  {
   "cell_type": "markdown",
   "metadata": {},
   "source": [
    "Now declare the input layer. "
   ]
  },
  {
   "cell_type": "code",
   "execution_count": 52,
   "metadata": {},
   "outputs": [],
   "source": [
    "from keras.layers import Dense\n",
    "\n",
    "model.add(Dense(28*28, input_dim=28*28, activation='relu', kernel_initializer='normal'))"
   ]
  },
  {
   "cell_type": "markdown",
   "metadata": {},
   "source": [
    "The first parameter correspond to the dimensionality of the output space. <br>\n",
    "The input shape (second parameter) should be the same of the training input (in this case width * height of each digit image).<br>\n",
    "The activation is a function that update the weights of the network to optimize the loss values.<br>\n",
    "The [kernel_initializer supported by Keras](https://keras.io/initializers/) specifies how the weights of are randomized. \n",
    "<br><br>\n",
    "At this point we can add more layers to our model like we're  building legos.\n",
    "\n",
    "The next codes add the output layer to the model:"
   ]
  },
  {
   "cell_type": "code",
   "execution_count": 53,
   "metadata": {},
   "outputs": [],
   "source": [
    "model.add(Dense(10, kernel_initializer='normal', activation='softmax'))"
   ]
  },
  {
   "cell_type": "markdown",
   "metadata": {},
   "source": [
    "Note that the final layer has an output size of 10, corresponding to the 10 classes of digits.<br>\n",
    "The softmax activation function is used on the output layer to turn the outputs into probability-like (values between 0 and 1).<br>\n",
    "Note that Keras automatically handles the connections between layers.\n",
    "\n",
    "The resulting model is a simple neural network with one hidden layer with the same number of neurons as there are inputs (784), where a rectifier activation function is used for the neuron's weight optimization whose has a output of 10 (number of classes)."
   ]
  },
  {
   "cell_type": "markdown",
   "metadata": {},
   "source": [
    "![title](nb1-1..jpg)"
   ]
  },
  {
   "cell_type": "markdown",
   "metadata": {},
   "source": [
    "## Step 5: Compile model\n",
    "\n",
    "At this point only we need to define the loss function and the optimizer, and then the model will be ready to train.\n",
    "\n",
    "Compile a model means the declaration of the loss function and the optimizer (SGD, Adam, etc)."
   ]
  },
  {
   "cell_type": "code",
   "execution_count": 54,
   "metadata": {},
   "outputs": [],
   "source": [
    "model.compile(loss='categorical_crossentropy', \n",
    "              optimizer='adam', \n",
    "              metrics=['accuracy'])"
   ]
  },
  {
   "cell_type": "markdown",
   "metadata": {},
   "source": [
    "Keras has a variety of [loss functions](https://keras.io/objectives/) and out-of-the-box [optimizers](https://keras.io/optimizers/) to choose from."
   ]
  },
  {
   "cell_type": "markdown",
   "metadata": {},
   "source": [
    "## Step 6: Fit model on training data\n",
    "\n",
    "To fit the model, all we have to do is declare the batch size and number of epochs to train for, then pass in our training data."
   ]
  },
  {
   "cell_type": "code",
   "execution_count": 84,
   "metadata": {},
   "outputs": [
    {
     "name": "stdout",
     "output_type": "stream",
     "text": [
      "Train on 48000 samples, validate on 12000 samples\n",
      "Epoch 1/30\n",
      " - 32s - loss: 0.0061 - acc: 0.9985 - val_loss: 0.0596 - val_acc: 0.9877\n",
      "Epoch 2/30\n",
      " - 33s - loss: 0.0045 - acc: 0.9987 - val_loss: 0.0406 - val_acc: 0.9913\n",
      "Epoch 3/30\n",
      " - 33s - loss: 0.0048 - acc: 0.9990 - val_loss: 0.0380 - val_acc: 0.9928\n",
      "Epoch 4/30\n",
      " - 35s - loss: 0.0054 - acc: 0.9988 - val_loss: 0.0428 - val_acc: 0.9914\n",
      "Epoch 5/30\n",
      " - 33s - loss: 0.0063 - acc: 0.9984 - val_loss: 0.0557 - val_acc: 0.9893\n",
      "Epoch 6/30\n",
      " - 34s - loss: 0.0034 - acc: 0.9989 - val_loss: 0.0477 - val_acc: 0.9908\n",
      "Epoch 7/30\n",
      " - 32s - loss: 0.0048 - acc: 0.9989 - val_loss: 0.0589 - val_acc: 0.9898\n",
      "Epoch 8/30\n",
      " - 32s - loss: 0.0042 - acc: 0.9988 - val_loss: 0.0670 - val_acc: 0.9889\n",
      "Epoch 9/30\n",
      " - 32s - loss: 0.0071 - acc: 0.9983 - val_loss: 0.0597 - val_acc: 0.9899\n",
      "Epoch 10/30\n",
      " - 33s - loss: 0.0034 - acc: 0.9991 - val_loss: 0.0488 - val_acc: 0.9918\n",
      "Epoch 11/30\n",
      " - 35s - loss: 0.0057 - acc: 0.9986 - val_loss: 0.0470 - val_acc: 0.9918\n",
      "Epoch 12/30\n",
      " - 36s - loss: 0.0028 - acc: 0.9992 - val_loss: 0.0615 - val_acc: 0.9898\n",
      "Epoch 13/30\n",
      " - 36s - loss: 0.0065 - acc: 0.9983 - val_loss: 0.0612 - val_acc: 0.9906\n",
      "Epoch 14/30\n",
      " - 36s - loss: 0.0044 - acc: 0.9989 - val_loss: 0.0634 - val_acc: 0.9902\n",
      "Epoch 15/30\n",
      " - 34s - loss: 0.0028 - acc: 0.9991 - val_loss: 0.0577 - val_acc: 0.9903\n",
      "Epoch 16/30\n",
      " - 34s - loss: 0.0018 - acc: 0.9994 - val_loss: 0.0632 - val_acc: 0.9911\n",
      "Epoch 17/30\n",
      " - 32s - loss: 0.0036 - acc: 0.9992 - val_loss: 0.0593 - val_acc: 0.9902\n",
      "Epoch 18/30\n",
      " - 36s - loss: 0.0071 - acc: 0.9984 - val_loss: 0.0611 - val_acc: 0.9915\n",
      "Epoch 19/30\n",
      " - 33s - loss: 0.0039 - acc: 0.9991 - val_loss: 0.0695 - val_acc: 0.9908\n",
      "Epoch 20/30\n",
      " - 32s - loss: 0.0054 - acc: 0.9988 - val_loss: 0.0729 - val_acc: 0.9885\n",
      "Epoch 21/30\n",
      " - 33s - loss: 0.0033 - acc: 0.9992 - val_loss: 0.0604 - val_acc: 0.9900\n",
      "Epoch 22/30\n",
      " - 34s - loss: 0.0025 - acc: 0.9994 - val_loss: 0.0611 - val_acc: 0.9902\n",
      "Epoch 23/30\n",
      " - 34s - loss: 0.0058 - acc: 0.9986 - val_loss: 0.0938 - val_acc: 0.9873\n",
      "Epoch 24/30\n",
      " - 35s - loss: 0.0034 - acc: 0.9990 - val_loss: 0.0930 - val_acc: 0.9873\n",
      "Epoch 25/30\n",
      " - 56s - loss: 0.0043 - acc: 0.9991 - val_loss: 0.0730 - val_acc: 0.9892\n",
      "Epoch 26/30\n",
      " - 42s - loss: 0.0052 - acc: 0.9986 - val_loss: 0.0805 - val_acc: 0.9897\n",
      "Epoch 27/30\n",
      " - 34s - loss: 0.0035 - acc: 0.9991 - val_loss: 0.0769 - val_acc: 0.9895\n",
      "Epoch 28/30\n",
      " - 33s - loss: 0.0022 - acc: 0.9996 - val_loss: 0.0793 - val_acc: 0.9883\n",
      "Epoch 29/30\n",
      " - 33s - loss: 0.0062 - acc: 0.9985 - val_loss: 0.0845 - val_acc: 0.9882\n",
      "Epoch 30/30\n",
      " - 34s - loss: 0.0027 - acc: 0.9994 - val_loss: 0.0757 - val_acc: 0.9901\n"
     ]
    }
   ],
   "source": [
    "history = model.fit(x_train, y_train, \n",
    "                    batch_size=32, \n",
    "                    epochs=30, \n",
    "                    verbose=2,\n",
    "                    validation_split=0.2)\n"
   ]
  },
  {
   "cell_type": "markdown",
   "metadata": {},
   "source": [
    "## Step 7: Evaluate model on test data\n",
    "\n",
    "We can evaluate our model on the test data."
   ]
  },
  {
   "cell_type": "code",
   "execution_count": 86,
   "metadata": {},
   "outputs": [
    {
     "name": "stdout",
     "output_type": "stream",
     "text": [
      "('Test loss:', 0.1613844129259274)\n",
      "('Test accuracy:', 0.9834)\n"
     ]
    }
   ],
   "source": [
    "score = model.evaluate(x_test, y_test, verbose=0)\n",
    "print('Test loss:', score[0])\n",
    "print('Test accuracy:', score[1])\n"
   ]
  },
  {
   "cell_type": "markdown",
   "metadata": {},
   "source": [
    "## Step 8: Graph training history\n",
    "\n",
    "We can graph the training history to visualize the neural network performance over each iteration."
   ]
  },
  {
   "cell_type": "code",
   "execution_count": 87,
   "metadata": {},
   "outputs": [
    {
     "data": {
      "image/png": "[encoded data removed]",
      "text/plain": [
       "<Figure size 432x288 with 1 Axes>"
      ]
     },
     "metadata": {},
     "output_type": "display_data"
    }
   ],
   "source": [
    "%matplotlib inline\n",
    "plt.plot(history.history['acc'])\n",
    "plt.plot(history.history['val_acc'])\n",
    "plt.title('model accuracy')\n",
    "plt.ylabel('accuracy')\n",
    "plt.xlabel('epoch')\n",
    "plt.legend(['train', 'test'], loc='upper left')\n",
    "plt.show()"
   ]
  },
  {
   "cell_type": "markdown",
   "metadata": {},
   "source": [
    "Finally we can graph the loss history over each iteration ."
   ]
  },
  {
   "cell_type": "code",
   "execution_count": 88,
   "metadata": {},
   "outputs": [
    {
     "data": {
      "image/png": "[encoded data removed]",
      "text/plain": [
       "<Figure size 432x288 with 1 Axes>"
      ]
     },
     "metadata": {},
     "output_type": "display_data"
    }
   ],
   "source": [
    "plt.plot(history.history['loss'])\n",
    "plt.plot(history.history['val_loss'])\n",
    "plt.title('model loss')\n",
    "plt.ylabel('loss')\n",
    "plt.xlabel('epoch')\n",
    "plt.legend(['train', 'test'], loc='upper left')\n",
    "plt.show()"
   ]
  }
 ],
 "metadata": {
  "kernelspec": {
   "display_name": "Python 2",
   "language": "python",
   "name": "python2"
  },
  "language_info": {
   "codemirror_mode": {
    "name": "ipython",
    "version": 2
   },
   "file_extension": ".py",
   "mimetype": "text/x-python",
   "name": "python",
   "nbconvert_exporter": "python",
   "pygments_lexer": "ipython2",
   "version": "2.7.12"
  }
 },
 "nbformat": 4,
 "nbformat_minor": 1
}
